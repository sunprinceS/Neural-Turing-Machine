{
 "cells": [
  {
   "cell_type": "code",
   "execution_count": 1,
   "metadata": {},
   "outputs": [
    {
     "name": "stdout",
     "output_type": "stream",
     "text": [
      "Populating the interactive namespace from numpy and matplotlib\n"
     ]
    }
   ],
   "source": [
    "%pylab inline\n",
    "from argparse import Namespace\n",
    "from marcos import *"
   ]
  },
  {
   "cell_type": "code",
   "execution_count": 3,
   "metadata": {},
   "outputs": [
    {
     "name": "stdout",
     "output_type": "stream",
     "text": [
      "repeat-copy\n",
      "log/repeat-copy/fix/60000.model\n",
      "NTM(\n",
      "  (controller): LSTMController(\n",
      "    (lstm): LSTM(28, 100)\n",
      "  )\n",
      "  (memory): NTMMemory()\n",
      "  (heads): ModuleList(\n",
      "    (0): NTMReadHead(\n",
      "      (memory): NTMMemory()\n",
      "      (fc_read): Linear(in_features=100, out_features=26, bias=True)\n",
      "    )\n",
      "    (1): NTMWriteHead(\n",
      "      (memory): NTMMemory()\n",
      "      (fc_write): Linear(in_features=100, out_features=66, bias=True)\n",
      "    )\n",
      "  )\n",
      "  (fc): Linear(in_features=28, out_features=8, bias=True)\n",
      ")\n"
     ]
    }
   ],
   "source": [
    "args = Namespace(\n",
    "    batch = 60000,\n",
    "    seed = RANDOM_SEED,\n",
    "    task = 'repeat-copy',\n",
    "    seq_width = 8,\n",
    "    ctrl_size = 100,\n",
    "    ctrl_num_layers = 1,\n",
    "    mem_size = 128,\n",
    "    mem_dim = 20,\n",
    "    num_heads = 1,\n",
    "    batch_size = 1,\n",
    "    mark = 'fix',\n",
    ")\n",
    "init_seed(args.seed)\n",
    "\n",
    "\n",
    "task = TaskRepeatCopy(vars(args),'eval')\n",
    "print(task.net)"
   ]
  },
  {
   "cell_type": "code",
   "execution_count": 23,
   "metadata": {},
   "outputs": [],
   "source": [
    "NUM_REP = 1\n",
    "SEQ_LEN = 10\n",
    "memory_ls = list()\n",
    "TOT_LEN = SEQ_LEN + 2 + (SEQ_LEN*NUM_REP)+3\n",
    "read_weights = torch.Tensor(TOT_LEN,args.mem_size)\n",
    "write_weights = torch.Tensor(TOT_LEN,args.mem_size)\n",
    "\n",
    "for X,y in task._data_gen(1,1,NUM_REP,SEQ_LEN):\n",
    "    pred = torch.Tensor(y.size())\n",
    "    task.net.init(1)\n",
    "    memory_ls.append(task.net.memory.get_memory().t())\n",
    "    \n",
    "    for i in range(SEQ_LEN+2):\n",
    "        _,prev_state = task.net(X[i])\n",
    "        read_weights[i] = prev_state[2][0]\n",
    "        write_weights[i] = prev_state[2][1]\n",
    "        \n",
    "    memory_ls.append(task.net.memory.get_memory().t())\n",
    "    \n",
    "    for o in range(SEQ_LEN*NUM_REP+3):\n",
    "        pred[o],prev_state = task.net(torch.zeros(1,task.seq_width))\n",
    "        read_weights[o+SEQ_LEN+2] = prev_state[2][0]\n",
    "        write_weights[o+SEQ_LEN+2] = prev_state[2][1]\n",
    "    memory_ls.append(task.net.memory.get_memory().t())\n",
    "    y = torch.transpose(y,0,2)\n",
    "    pred = torch.transpose(pred,0,2)"
   ]
  },
  {
   "cell_type": "code",
   "execution_count": 24,
   "metadata": {},
   "outputs": [
    {
     "data": {
      "text/plain": [
       "<matplotlib.collections.QuadMesh at 0x7fd228473be0>"
      ]
     },
     "execution_count": 24,
     "metadata": {},
     "output_type": "execute_result"
    },
    {
     "data": {
      "image/png": "[encoded data removed]",
      "text/plain": [
       "<matplotlib.figure.Figure at 0x7fd228ca59e8>"
      ]
     },
     "metadata": {},
     "output_type": "display_data"
    }
   ],
   "source": [
    "plt.figure(figsize=(12, 3))\n",
    "plt.title(\"Input\")\n",
    "X = torch.transpose(X,0,2)\n",
    "pcolormesh(X.squeeze(1).data.numpy())"
   ]
  },
  {
   "cell_type": "code",
   "execution_count": 25,
   "metadata": {},
   "outputs": [
    {
     "name": "stdout",
     "output_type": "stream",
     "text": [
      "Cost per byte: 4.5\n"
     ]
    },
    {
     "data": {
      "image/png": "[encoded data removed]",
      "text/plain": [
       "<matplotlib.figure.Figure at 0x7fd22850bf28>"
      ]
     },
     "metadata": {},
     "output_type": "display_data"
    }
   ],
   "source": [
    "plt.figure(figsize=(15, 4))\n",
    "plt.subplot(2,1, 1)\n",
    "plt.title(\"prediction\")\n",
    "pcolormesh(pred.squeeze(1).data.numpy())\n",
    "plt.subplot(2,1, 2)\n",
    "plt.title(\"ground truth\")\n",
    "pcolormesh(y.squeeze(1).data.numpy())\n",
    "print(\"Cost per byte: {}\".format(torch.sum(torch.abs(torch.round(pred)-y))/(SEQ_LEN)))"
   ]
  },
  {
   "cell_type": "code",
   "execution_count": null,
   "metadata": {},
   "outputs": [],
   "source": []
  }
 ],
 "metadata": {
  "kernelspec": {
   "display_name": "Python 3",
   "language": "python",
   "name": "python3"
  },
  "language_info": {
   "codemirror_mode": {
    "name": "ipython",
    "version": 3
   },
   "file_extension": ".py",
   "mimetype": "text/x-python",
   "name": "python",
   "nbconvert_exporter": "python",
   "pygments_lexer": "ipython3",
   "version": "3.6.5"
  },
  "toc": {
   "nav_menu": {},
   "number_sections": true,
   "sideBar": true,
   "skip_h1_title": false,
   "toc_cell": false,
   "toc_position": {},
   "toc_section_display": "block",
   "toc_window_display": false
  },
  "varInspector": {
   "cols": {
    "lenName": 16,
    "lenType": 16,
    "lenVar": 40
   },
   "kernels_config": {
    "python": {
     "delete_cmd_postfix": "",
     "delete_cmd_prefix": "del ",
     "library": "var_list.py",
     "varRefreshCmd": "print(var_dic_list())"
    },
    "r": {
     "delete_cmd_postfix": ") ",
     "delete_cmd_prefix": "rm(",
     "library": "var_list.r",
     "varRefreshCmd": "cat(var_dic_list()) "
    }
   },
   "types_to_exclude": [
    "module",
    "function",
    "builtin_function_or_method",
    "instance",
    "_Feature"
   ],
   "window_display": false
  }
 },
 "nbformat": 4,
 "nbformat_minor": 2
}
